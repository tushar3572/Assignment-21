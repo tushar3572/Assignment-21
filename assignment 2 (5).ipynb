{
 "cells": [
  {
   "cell_type": "code",
   "execution_count": null,
   "id": "8a5d3fca-f029-40f0-8de3-7f0ceceb5c51",
   "metadata": {},
   "outputs": [],
   "source": [
    "    #Answer : 1\n",
    "    \n",
    "There are three main measures of central tendency: \n",
    "    Mean\n",
    "    Mode\n",
    "    Median"
   ]
  },
  {
   "cell_type": "code",
   "execution_count": null,
   "id": "c373b207-7078-4790-9831-3eab9433e2a4",
   "metadata": {},
   "outputs": [],
   "source": [
    "    #Answer : 2\n",
    "    \n",
    "The mean is the average where the sum of all the numbers is divided by the total number of numbers,\n",
    "whereas the median is the middle value in the list of given numbers numerically ordered from smallest to biggest and \n",
    "mode is the value of the number which occurs most often in the list.    \n",
    "\n",
    "The central tendency measure is defined as the number used to represent the center or middle of a set of data values. \n",
    "The three commonly used measures of central tendency are the mean, median, and mode"
   ]
  },
  {
   "cell_type": "code",
   "execution_count": 1,
   "id": "f7312757-da63-4c06-8ba7-c5fffee53228",
   "metadata": {},
   "outputs": [
    {
     "data": {
      "text/plain": [
       "177.01875"
      ]
     },
     "execution_count": 1,
     "metadata": {},
     "output_type": "execute_result"
    }
   ],
   "source": [
    "    #Answer : 3\n",
    "    \n",
    "data = [178,177,176,177,178.2,178,175,179,180,175,178.9,176.2,177,172.5,178,176.5]    \n",
    "import numpy as np\n",
    "np.mean(data)"
   ]
  },
  {
   "cell_type": "code",
   "execution_count": 2,
   "id": "e1c01001-7c52-4198-8d45-53ba215cc714",
   "metadata": {},
   "outputs": [
    {
     "data": {
      "text/plain": [
       "177.0"
      ]
     },
     "execution_count": 2,
     "metadata": {},
     "output_type": "execute_result"
    }
   ],
   "source": [
    "np.median(data)"
   ]
  },
  {
   "cell_type": "code",
   "execution_count": 8,
   "id": "01c2cb74-42ba-4f2e-83a5-bee5bfc7eed4",
   "metadata": {},
   "outputs": [
    {
     "name": "stderr",
     "output_type": "stream",
     "text": [
      "/tmp/ipykernel_1386/2866945064.py:3: FutureWarning: Unlike other reduction functions (e.g. `skew`, `kurtosis`), the default behavior of `mode` typically preserves the axis it acts along. In SciPy 1.11.0, this behavior will change: the default value of `keepdims` will become False, the `axis` over which the statistic is taken will be eliminated, and the value None will no longer be accepted. Set `keepdims` to True or False to avoid this warning.\n",
      "  stats.mode(data)\n"
     ]
    },
    {
     "data": {
      "text/plain": [
       "ModeResult(mode=array([177.]), count=array([3]))"
      ]
     },
     "execution_count": 8,
     "metadata": {},
     "output_type": "execute_result"
    }
   ],
   "source": [
    "import numpy as np\n",
    "from scipy import stats\n",
    "stats.mode(data)"
   ]
  },
  {
   "cell_type": "code",
   "execution_count": 13,
   "id": "1f83dcc7-98d2-4704-864d-b18f8ec8616a",
   "metadata": {},
   "outputs": [
    {
     "data": {
      "text/plain": [
       "1.7885814036548633"
      ]
     },
     "execution_count": 13,
     "metadata": {},
     "output_type": "execute_result"
    }
   ],
   "source": [
    "    #Answer : 4\n",
    "    \n",
    "df=[178,177,176,177,178.2,178,175,179,180,175,178.9,176.2,177,172.5,178,176.5]\n",
    "import numpy as np\n",
    "np.std(df)"
   ]
  },
  {
   "cell_type": "code",
   "execution_count": null,
   "id": "a818f2d6-e12a-4797-9962-22a3e0334627",
   "metadata": {},
   "outputs": [],
   "source": [
    "    #Answer : 5\n",
    "    \n",
    "Range:\n",
    "\n",
    "Range measures the extent of the spread of data by calculating the difference between the maximum and minimum values in a dataset.\n",
    "It gives a simple indication of the data's spread but can be sensitive to outliers.\n",
    "Example: Consider a dataset of exam scores for a class of students: [65, 70, 75, 80, 95]. The range is 95 (maximum) - 65 (minimum) = 30, indicating that the scores vary by 30 points.\n",
    "\n",
    "Variance:\n",
    "\n",
    "Variance quantifies how much individual data points deviate from the mean. It's the average of the squared differences between each data point and the mean.\n",
    "Variance is more robust against outliers compared to the range.\n",
    "Example: Let's use the same exam scores dataset. First, calculate the mean: (65 + 70 + 75 + 80 + 95) / 5 = 77. The variance is calculated as [(65 - 77)^2 + (70 - 77)^2 + (75 - 77)^2 + (80 - 77)^2 + (95 - 77)^2] / 5 = 150.8 (rounded to one decimal place).\n",
    "\n",
    "Standard Deviation:\n",
    "\n",
    "The standard deviation is the square root of the variance. It measures the average amount by which data points deviate from the mean.\n",
    "It provides a more interpretable measure of spread compared to variance, as it's in the same units as the original data.\n",
    "Example: Using the variance from the previous example (150.8), the standard deviation is the square root of 150.8, which is approximately 12.28 (rounded to two decimal places).\n",
    "\n",
    "In summary, these measures of dispersion help us understand how data points are distributed around the central tendency, \n",
    "providing insights into the variability or spread of the dataset. Range gives a basic sense of spread, while variance and \n",
    "standard deviation provide more detailed information, with standard deviation being the most commonly used measure due to its interpretability and robustness against outliers.    "
   ]
  },
  {
   "cell_type": "code",
   "execution_count": null,
   "id": "edc7eb89-dee5-4a05-8b1b-78c0d8dcfb95",
   "metadata": {},
   "outputs": [],
   "source": [
    "    #Answer : 6\n",
    "    \n",
    "A Venn diagram uses overlapping circles or other shapes to illustrate the logical relationships between\n",
    "two or more sets of items.    "
   ]
  },
  {
   "cell_type": "code",
   "execution_count": null,
   "id": "8711e48d-b744-4a07-b067-5ca0e49c3da3",
   "metadata": {},
   "outputs": [],
   "source": [
    "    #Answer : 7\n",
    "    \n",
    "(i) (2,6)\n",
    "(ii) (0,2,3,4,5,6,7,8,10)"
   ]
  },
  {
   "cell_type": "code",
   "execution_count": null,
   "id": "aea63a02-9274-4195-aefa-96649b8cdbc8",
   "metadata": {},
   "outputs": [],
   "source": [
    "    #Answer : 8\n",
    "    \n",
    "Skewness is a measurement of the distortion of symmetrical distribution or asymmetry in a data set.\n",
    "Skewness is demonstrated on a bell curve when data points are not distributed symmetrically to the left and right sides of the median on a bell curve.    "
   ]
  },
  {
   "cell_type": "code",
   "execution_count": null,
   "id": "10f64dd0-3a73-41d1-8aaa-7ee83b8336cc",
   "metadata": {},
   "outputs": [],
   "source": [
    "    #Answer : 9\n",
    "    \n",
    "If a dataset is right-skewed (positively skewed), it means that the tail on the right side of the distribution is longer or stretched out,\n",
    "while the bulk of the data is concentrated on the left side    "
   ]
  },
  {
   "cell_type": "code",
   "execution_count": null,
   "id": "eaa2ae0c-5be0-4026-80c9-1989f9b4d389",
   "metadata": {},
   "outputs": [],
   "source": [
    "    #Answer : 10\n",
    "    \n",
    "Covariance is a measure to indicate the extent to which two random variables change in tandem. \n",
    "Correlation is a measure used to represent how strongly two random variables are related to each other.\n",
    "Covariance is nothing but a measure of correlation. \n",
    "Correlation refers to the scaled form of covariance    \n"
   ]
  },
  {
   "cell_type": "code",
   "execution_count": null,
   "id": "f627c994-9e86-46e8-8095-d7a2c02a5ea8",
   "metadata": {},
   "outputs": [],
   "source": [
    "    #Answer : 11\n",
    "\n",
    "x̄= (xi)/n"
   ]
  },
  {
   "cell_type": "code",
   "execution_count": null,
   "id": "89a88517-59dc-423f-b645-0950697fd2ec",
   "metadata": {},
   "outputs": [],
   "source": [
    "x=[60, 57, 109, 50,55]\n",
    "n=5"
   ]
  },
  {
   "cell_type": "code",
   "execution_count": 14,
   "id": "2a218d0a-5f16-4857-b556-e31f650413d5",
   "metadata": {},
   "outputs": [],
   "source": [
    "X = 331/5"
   ]
  },
  {
   "cell_type": "code",
   "execution_count": 15,
   "id": "8039a813-c8b5-48d4-82b6-cce45e9ccdab",
   "metadata": {},
   "outputs": [
    {
     "data": {
      "text/plain": [
       "66.2"
      ]
     },
     "execution_count": 15,
     "metadata": {},
     "output_type": "execute_result"
    }
   ],
   "source": [
    "X"
   ]
  },
  {
   "cell_type": "code",
   "execution_count": null,
   "id": "cfc16094-f4b8-4084-a6e9-ce46f2af72b5",
   "metadata": {},
   "outputs": [],
   "source": [
    "    #Answer : 12\n",
    "    \n",
    "The mean (μ) is equal to the median, and they are both located at the center of the distribution.\n",
    "The mode also coincides with the mean and median in a perfectly symmetric normal distribution.\n",
    "    \n",
    "    "
   ]
  },
  {
   "cell_type": "code",
   "execution_count": null,
   "id": "42120c80-f493-45fe-8680-afb5b90fe2b2",
   "metadata": {},
   "outputs": [],
   "source": [
    "    #Answer : 13\n",
    "    \n",
    "Covariance is when two variables vary with each other, \n",
    "whereas Correlation is when the change in one variable results in the change in another variable.    "
   ]
  },
  {
   "cell_type": "code",
   "execution_count": null,
   "id": "e6cdc29e-3e65-413b-93ba-6bef4c8989c4",
   "metadata": {},
   "outputs": [],
   "source": [
    "    #Answer : 14\n",
    "    \n",
    "Outliers are numbers in a data set that are vastly larger or smaller than the other values in the set.\n",
    "Mean, median and mode are measures of central tendency.\n",
    "Mean is the only measure of central tendency that is always affected by an outlier.\n",
    "Mean, the average, is the most popular measure of central tendency.   \n",
    "\n",
    "\n",
    "Example: Consider the following dataset of exam scores: [85, 88, 90, 92, 94, 120]. \n",
    "The mean without the outlier is 91.5, but with the outlier, it becomes 99.83."
   ]
  }
 ],
 "metadata": {
  "kernelspec": {
   "display_name": "Python 3 (ipykernel)",
   "language": "python",
   "name": "python3"
  },
  "language_info": {
   "codemirror_mode": {
    "name": "ipython",
    "version": 3
   },
   "file_extension": ".py",
   "mimetype": "text/x-python",
   "name": "python",
   "nbconvert_exporter": "python",
   "pygments_lexer": "ipython3",
   "version": "3.10.8"
  }
 },
 "nbformat": 4,
 "nbformat_minor": 5
}
